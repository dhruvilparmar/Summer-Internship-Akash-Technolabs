{
  "nbformat": 4,
  "nbformat_minor": 0,
  "metadata": {
    "colab": {
      "name": " number is even or odd",
      "provenance": [],
      "authorship_tag": "ABX9TyPkayvGPX4wZj8OSZArA3+c"
    },
    "kernelspec": {
      "name": "python3",
      "display_name": "Python 3"
    },
    "language_info": {
      "name": "python"
    }
  },
  "cells": [
    {
      "cell_type": "code",
      "execution_count": null,
      "metadata": {
        "colab": {
          "base_uri": "https://localhost:8080/"
        },
        "id": "LdHnvtXczuMk",
        "outputId": "04f467c4-63ef-4872-fcd1-86ab943fb59f"
      },
      "outputs": [
        {
          "output_type": "stream",
          "name": "stdout",
          "text": [
            "Enter a number: 10\n",
            "The number is even\n"
          ]
        }
      ],
      "source": [
        "#Enter a number to check even/odd\n",
        "number = int(input(\"Enter a number: \"))\n",
        "if (number % 2) == 0:\n",
        "  print(\"The number is even\")\n",
        "else:\n",
        "  print(\"The number is odd\")"
      ]
    }
  ]
}