{
  "nbformat": 4,
  "nbformat_minor": 0,
  "metadata": {
    "colab": {
      "name": "calculate area of square",
      "provenance": [],
      "authorship_tag": "ABX9TyOlVrqlxEOJRX5lKUXm+mil"
    },
    "kernelspec": {
      "name": "python3",
      "display_name": "Python 3"
    },
    "language_info": {
      "name": "python"
    }
  },
  "cells": [
    {
      "cell_type": "code",
      "execution_count": null,
      "metadata": {
        "colab": {
          "base_uri": "https://localhost:8080/"
        },
        "id": "VlaAMwibhuF5",
        "outputId": "88a1b3bc-2e11-42f9-9e90-8fd000f0be14"
      },
      "outputs": [
        {
          "output_type": "stream",
          "name": "stdout",
          "text": [
            "Enter the Side Length of Square:\n",
            "10\n",
            "\n",
            "area =  100.0\n"
          ]
        }
      ],
      "source": [
        "print(\"Enter the Side Length of Square:\")\n",
        "l = float(input())\n",
        "a = l*l\n",
        "print(\"\\narea = \", a)\n"
      ]
    }
  ]
}