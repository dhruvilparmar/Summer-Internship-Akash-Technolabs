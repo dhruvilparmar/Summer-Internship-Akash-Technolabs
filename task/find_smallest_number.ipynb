{
  "nbformat": 4,
  "nbformat_minor": 0,
  "metadata": {
    "colab": {
      "name": "find smallest number",
      "provenance": [],
      "authorship_tag": "ABX9TyNSdde4+gkqjy4DfO+0CxLq"
    },
    "kernelspec": {
      "name": "python3",
      "display_name": "Python 3"
    },
    "language_info": {
      "name": "python"
    }
  },
  "cells": [
    {
      "cell_type": "code",
      "execution_count": null,
      "metadata": {
        "colab": {
          "base_uri": "https://localhost:8080/"
        },
        "id": "lvaHZLRRRofh",
        "outputId": "bf7fba2b-a283-49a8-b0ee-e6114a1ab3f9"
      },
      "outputs": [
        {
          "output_type": "stream",
          "name": "stdout",
          "text": [
            "10\n"
          ]
        }
      ],
      "source": [
        "a = 10\n",
        "b = 20\n",
        "\n",
        "minimum = min(a,b)\n",
        "print(minimum)"
      ]
    }
  ]
}