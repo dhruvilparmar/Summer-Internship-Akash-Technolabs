{
  "nbformat": 4,
  "nbformat_minor": 0,
  "metadata": {
    "colab": {
      "name": "calculate area of circle",
      "provenance": [],
      "authorship_tag": "ABX9TyNFNQCobh9e0brBK5sB97oF"
    },
    "kernelspec": {
      "name": "python3",
      "display_name": "Python 3"
    },
    "language_info": {
      "name": "python"
    }
  },
  "cells": [
    {
      "cell_type": "code",
      "execution_count": null,
      "metadata": {
        "colab": {
          "base_uri": "https://localhost:8080/"
        },
        "id": "oQmR8o59tl9l",
        "outputId": "f110c252-0ee1-453a-fe8f-a75fcc7e2f83"
      },
      "outputs": [
        {
          "output_type": "stream",
          "name": "stdout",
          "text": [
            "Please enter the radius of given circle:10\n",
            "The area of the given circle is: 314.0\n"
          ]
        }
      ],
      "source": [
        "PI = 3.14\n",
        "Radius = float(input(\"Please enter the radius of given circle:\"))\n",
        "areaofthecircle = PI * Radius * Radius\n",
        "print(\"The area of the given circle is:\",areaofthecircle)"
      ]
    }
  ]
}