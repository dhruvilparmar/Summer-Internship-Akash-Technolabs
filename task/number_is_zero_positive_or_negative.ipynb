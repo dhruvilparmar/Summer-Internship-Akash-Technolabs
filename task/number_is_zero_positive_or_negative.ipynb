{
  "nbformat": 4,
  "nbformat_minor": 0,
  "metadata": {
    "colab": {
      "name": " number is zero positive or negative",
      "provenance": [],
      "authorship_tag": "ABX9TyNb3pYYzgQ2I/mDM5lqqs5z"
    },
    "kernelspec": {
      "name": "python3",
      "display_name": "Python 3"
    },
    "language_info": {
      "name": "python"
    }
  },
  "cells": [
    {
      "cell_type": "code",
      "execution_count": null,
      "metadata": {
        "id": "9rWzCPEI4uCj"
      },
      "outputs": [],
      "source": [
        "def check(n):\n",
        "\n",
        "  # if the number is positive\n",
        "  if n>0:\n",
        "    print(\"Positive\")\n",
        "     \n",
        "  # if the number is negative \n",
        "  elif n<o:\n",
        "    print(\"Negative\")\n",
        "\n",
        "  # if the number is equal to \n",
        "  #zero\n",
        "  else:\n",
        "    print(\"Equal to zero\")\n"
      ]
    }
  ]
}