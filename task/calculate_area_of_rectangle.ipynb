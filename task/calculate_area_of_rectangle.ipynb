{
  "nbformat": 4,
  "nbformat_minor": 0,
  "metadata": {
    "colab": {
      "name": "calculate area of rectangle",
      "provenance": [],
      "authorship_tag": "ABX9TyPCw0z2YeLqZ83LJu3K94iG"
    },
    "kernelspec": {
      "name": "python3",
      "display_name": "Python 3"
    },
    "language_info": {
      "name": "python"
    }
  },
  "cells": [
    {
      "cell_type": "code",
      "execution_count": null,
      "metadata": {
        "colab": {
          "base_uri": "https://localhost:8080/"
        },
        "id": "J-vvjByqfvEK",
        "outputId": "e6e7f94f-3ec9-4dd1-dd4d-534400c31e06"
      },
      "outputs": [
        {
          "output_type": "stream",
          "name": "stdout",
          "text": [
            "Area of a rectangle is: 200.00\n"
          ]
        }
      ],
      "source": [
        "def AreaofRectangle(width, height):\n",
        "    Area = width * height\n",
        "    print(\"Area of a rectangle is: %.2f\" %Area)\n",
        "AreaofRectangle(10, 20)"
      ]
    }
  ]
}