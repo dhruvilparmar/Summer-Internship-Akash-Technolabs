{
  "nbformat": 4,
  "nbformat_minor": 0,
  "metadata": {
    "colab": {
      "name": "swap 2 numbers",
      "provenance": [],
      "authorship_tag": "ABX9TyO1OMFkSsDPBTARmU+ezMEt"
    },
    "kernelspec": {
      "name": "python3",
      "display_name": "Python 3"
    },
    "language_info": {
      "name": "python"
    }
  },
  "cells": [
    {
      "cell_type": "code",
      "execution_count": null,
      "metadata": {
        "colab": {
          "base_uri": "https://localhost:8080/"
        },
        "id": "k5D7EyNnQaz7",
        "outputId": "94ae577d-e5ff-48cf-a5be-241a0358aab4"
      },
      "outputs": [
        {
          "output_type": "stream",
          "name": "stdout",
          "text": [
            "number1 = 20\n",
            "number2 = 10\n"
          ]
        }
      ],
      "source": [
        "number1 = 10\n",
        "number2 = 20\n",
        "number1, number2 = number2, number1\n",
        "print(\"number1 =\", number1)\n",
        "print(\"number2 =\", number2)"
      ]
    }
  ]
}