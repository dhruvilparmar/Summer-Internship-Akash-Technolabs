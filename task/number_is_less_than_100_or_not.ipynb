{
  "nbformat": 4,
  "nbformat_minor": 0,
  "metadata": {
    "colab": {
      "name": " number is less than 100 or not",
      "provenance": [],
      "authorship_tag": "ABX9TyO1Tbguue6e1WUeHwZpwgsS"
    },
    "kernelspec": {
      "name": "python3",
      "display_name": "Python 3"
    },
    "language_info": {
      "name": "python"
    }
  },
  "cells": [
    {
      "cell_type": "code",
      "execution_count": null,
      "metadata": {
        "colab": {
          "base_uri": "https://localhost:8080/"
        },
        "id": "hY0wLTnVSq50",
        "outputId": "fdc51349-28b3-4c29-8e4c-01f4e23fb7e3"
      },
      "outputs": [
        {
          "output_type": "stream",
          "name": "stdout",
          "text": [
            "Yes\n"
          ]
        }
      ],
      "source": [
        "def CheckForLess(list1, val):\n",
        "  return(all(x < val for x in list1))\n",
        "\n",
        "list1 = [10, 20, 30, 40, 50]\n",
        "val = 100\n",
        "if (CheckForLess(list1, val)): print(\"Yes\")\n",
        "else: print(\"No\")"
      ]
    }
  ]
}