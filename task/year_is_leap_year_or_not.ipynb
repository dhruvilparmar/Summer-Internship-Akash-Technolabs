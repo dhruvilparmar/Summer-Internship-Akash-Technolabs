{
  "nbformat": 4,
  "nbformat_minor": 0,
  "metadata": {
    "colab": {
      "name": " year is leap year or not",
      "provenance": [],
      "authorship_tag": "ABX9TyMlNc4ekbupod6jIG2tbUVK"
    },
    "kernelspec": {
      "name": "python3",
      "display_name": "Python 3"
    },
    "language_info": {
      "name": "python"
    }
  },
  "cells": [
    {
      "cell_type": "code",
      "execution_count": null,
      "metadata": {
        "colab": {
          "base_uri": "https://localhost:8080/"
        },
        "id": "LfBbNKEA1l9c",
        "outputId": "8a4af999-f8f4-4638-b5ef-574134fa69e3"
      },
      "outputs": [
        {
          "output_type": "stream",
          "name": "stdout",
          "text": [
            "Leap Year\n"
          ]
        }
      ],
      "source": [
        "def checkYear(year):\n",
        "    # Return true if year is a multiple\n",
        "    #of 4 and not multiple of 100\n",
        "    #OR year is multiple of 400\n",
        "    return (((year % 4 == 0) and (year % 100 != 0)) or (year % 400 == 0));\n",
        "#Driver Code\n",
        "year = 2000\n",
        "if(checkYear(year)):\n",
        " print(\"Leap Year\")\n",
        "else:\n",
        " print(\"Not a Leap Year\")\n"
      ]
    }
  ]
}