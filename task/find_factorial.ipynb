{
  "nbformat": 4,
  "nbformat_minor": 0,
  "metadata": {
    "colab": {
      "name": "find factorial ",
      "provenance": [],
      "authorship_tag": "ABX9TyNTRN+y0qCXGnQ+nYFjgdU1"
    },
    "kernelspec": {
      "name": "python3",
      "display_name": "Python 3"
    },
    "language_info": {
      "name": "python"
    }
  },
  "cells": [
    {
      "cell_type": "code",
      "execution_count": null,
      "metadata": {
        "colab": {
          "base_uri": "https://localhost:8080/"
        },
        "id": "C3JeJ7BUNk3N",
        "outputId": "d74cfd64-ccf0-4586-a39f-d306d0bf6306"
      },
      "outputs": [
        {
          "output_type": "stream",
          "name": "stdout",
          "text": [
            "The factorial of 5 is 120\n"
          ]
        }
      ],
      "source": [
        "Num = 5\n",
        "Factorial = 1\n",
        "if Num < 0:\n",
        "  print(\"Factorial does not exist for negative numbers\")\n",
        "elif Num == 0:\n",
        "  print(\"The factorial of 0 is 1\")\n",
        "else:\n",
        "  for i in range(1, Num + 1):\n",
        "    Factorial = Factorial * i\n",
        "  print(\"The factorial of\",Num,\"is\",Factorial)"
      ]
    }
  ]
}