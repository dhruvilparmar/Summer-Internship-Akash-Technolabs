{
  "nbformat": 4,
  "nbformat_minor": 0,
  "metadata": {
    "colab": {
      "name": "calculate average of 5 numbers",
      "provenance": [],
      "authorship_tag": "ABX9TyP/JNSs0EkEsrdt3ADQqgYo"
    },
    "kernelspec": {
      "name": "python3",
      "display_name": "Python 3"
    },
    "language_info": {
      "name": "python"
    }
  },
  "cells": [
    {
      "cell_type": "code",
      "execution_count": null,
      "metadata": {
        "colab": {
          "base_uri": "https://localhost:8080/"
        },
        "id": "4AJsoL-SwKt7",
        "outputId": "14db6216-49e6-4c44-fe51-2ac5d37de8ab"
      },
      "outputs": [
        {
          "output_type": "stream",
          "name": "stdout",
          "text": [
            "Enter the value of n:\n",
            "5\n",
            "Enter 5Numbers:\n",
            "10\n",
            "20\n",
            "30\n",
            "40\n",
            "50\n",
            "\n",
            "Average =  30.0\n"
          ]
        }
      ],
      "source": [
        "print(\"Enter the value of n:\")\n",
        "n = int(input())\n",
        "print(\"Enter \" +str(n)+ \"Numbers:\")\n",
        "nums = []\n",
        "for i in range(n):\n",
        "    nums.insert(i, int(input()))\n",
        "sum = 0\n",
        "for i in range(n):\n",
        "    sum = sum+nums[i]\n",
        "avg = sum/n\n",
        "print(\"\\nAverage = \", avg)\n"
      ]
    }
  ]
}