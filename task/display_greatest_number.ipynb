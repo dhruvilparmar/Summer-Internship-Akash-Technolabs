{
  "nbformat": 4,
  "nbformat_minor": 0,
  "metadata": {
    "colab": {
      "name": "display greatest number",
      "provenance": [],
      "authorship_tag": "ABX9TyMAj/ZFdP/6rYcCXD6y75XB"
    },
    "kernelspec": {
      "name": "python3",
      "display_name": "Python 3"
    },
    "language_info": {
      "name": "python"
    }
  },
  "cells": [
    {
      "cell_type": "code",
      "execution_count": null,
      "metadata": {
        "id": "oTUMrVaBKWar"
      },
      "outputs": [],
      "source": [
        "# Python program to find the\n",
        "# maxiimum of two numbers\n",
        "\n",
        "\n",
        "def maximum(a,b):\n",
        "\n",
        "  if a>=b:\n",
        "    return a\n",
        "  else:\n",
        "    return b\n",
        "\n",
        "  # Driver code\n",
        "  a = 10\n",
        "  b = 20\n",
        "  print(maximum(a,b))\n"
      ]
    }
  ]
}