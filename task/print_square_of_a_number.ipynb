{
  "nbformat": 4,
  "nbformat_minor": 0,
  "metadata": {
    "colab": {
      "name": "print square of a number",
      "provenance": [],
      "authorship_tag": "ABX9TyMVuLptnhqbnzQphga7oRql"
    },
    "kernelspec": {
      "name": "python3",
      "display_name": "Python 3"
    },
    "language_info": {
      "name": "python"
    }
  },
  "cells": [
    {
      "cell_type": "code",
      "execution_count": null,
      "metadata": {
        "colab": {
          "base_uri": "https://localhost:8080/"
        },
        "id": "hfzYBlqdWBie",
        "outputId": "ce428fbf-699f-4a20-d8b0-963a3ad597d6"
      },
      "outputs": [
        {
          "output_type": "stream",
          "name": "stdout",
          "text": [
            "100\n"
          ]
        }
      ],
      "source": [
        "n = 10\n",
        "\n",
        "square = n * n\n",
        "\n",
        "print(square)"
      ]
    }
  ]
}