{
  "nbformat": 4,
  "nbformat_minor": 0,
  "metadata": {
    "colab": {
      "name": "2",
      "provenance": [],
      "collapsed_sections": [],
      "authorship_tag": "ABX9TyONhz3MwPPPWbQBb9KQiL/5"
    },
    "kernelspec": {
      "name": "python3",
      "display_name": "Python 3"
    },
    "language_info": {
      "name": "python"
    }
  },
  "cells": [
    {
      "cell_type": "code",
      "execution_count": null,
      "metadata": {
        "colab": {
          "base_uri": "https://localhost:8080/",
          "height": 53
        },
        "id": "enTjq2yaMBBK",
        "outputId": "d7b5e9c9-c1a1-418d-8491-93581a287c2c"
      },
      "outputs": [
        {
          "output_type": "stream",
          "name": "stdout",
          "text": [
            "Hello World\n"
          ]
        },
        {
          "output_type": "execute_result",
          "data": {
            "text/plain": [
              "'This is \\n    example of\\n    multi-line comments\\n'"
            ],
            "application/vnd.google.colaboratory.intrinsic+json": {
              "type": "string"
            }
          },
          "metadata": {},
          "execution_count": 1
        }
      ],
      "source": [
        "#This is a comment\n",
        "#print Hello World\n",
        "print(\"Hello World\")\n",
        "\n",
        "'''This is\n",
        "    example of \n",
        "    multi-line comments\n",
        "'''\n",
        "\n",
        "\"\"\"This is \n",
        "    example of\n",
        "    multi-line comments\n",
        "\"\"\"\n"
      ]
    }
  ]
}