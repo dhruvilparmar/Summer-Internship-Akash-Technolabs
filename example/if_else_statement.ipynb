{
  "nbformat": 4,
  "nbformat_minor": 0,
  "metadata": {
    "colab": {
      "name": "if...else number",
      "provenance": [],
      "authorship_tag": "ABX9TyOMuDU2T5pRBymB930eF1HE"
    },
    "kernelspec": {
      "name": "python3",
      "display_name": "Python 3"
    },
    "language_info": {
      "name": "python"
    }
  },
  "cells": [
    {
      "cell_type": "code",
      "execution_count": null,
      "metadata": {
        "colab": {
          "base_uri": "https://localhost:8080/"
        },
        "id": "NdlH0yM3W75X",
        "outputId": "fb85205d-217f-4ee2-8e51-9e8355cbfad9"
      },
      "outputs": [
        {
          "output_type": "stream",
          "name": "stdout",
          "text": [
            "y is a greater number\n"
          ]
        }
      ],
      "source": [
        "x = 10\n",
        "y = 20\n",
        "\n",
        "if x>y:\n",
        "  print(\"x is a greater number\")\n",
        "\n",
        "else:\n",
        "  print(\"y is a greater number\")"
      ]
    }
  ]
}