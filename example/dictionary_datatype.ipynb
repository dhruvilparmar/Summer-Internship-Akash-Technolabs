{
  "nbformat": 4,
  "nbformat_minor": 0,
  "metadata": {
    "colab": {
      "name": "dictionary datatype",
      "provenance": [],
      "authorship_tag": "ABX9TyMC1LQbN+YQIa5wiQT9SbNo"
    },
    "kernelspec": {
      "name": "python3",
      "display_name": "Python 3"
    },
    "language_info": {
      "name": "python"
    }
  },
  "cells": [
    {
      "cell_type": "code",
      "execution_count": null,
      "metadata": {
        "colab": {
          "base_uri": "https://localhost:8080/"
        },
        "id": "TOHXZIgjMSVg",
        "outputId": "bfb8b600-018e-4f3f-f496-7d43a805f8a2"
      },
      "outputs": [
        {
          "output_type": "stream",
          "name": "stdout",
          "text": [
            "<class 'dict'>\n",
            "d(1)= Dhruvil\n",
            "d(2)= Parmar\n",
            "d['key'] = 10\n"
          ]
        }
      ],
      "source": [
        "d = {1:\"Dhruvil\", 2:\"Parmar\", 'key':10}\n",
        "print(type(d))\n",
        "\n",
        "print(\"d(1)=\", d[1])\n",
        "\n",
        "print(\"d(2)=\", d[2])\n",
        "\n",
        "print(\"d['key'] =\", d['key'])"
      ]
    }
  ]
}