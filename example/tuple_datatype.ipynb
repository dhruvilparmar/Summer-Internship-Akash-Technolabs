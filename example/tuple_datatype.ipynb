{
  "nbformat": 4,
  "nbformat_minor": 0,
  "metadata": {
    "colab": {
      "name": "tuple datatype",
      "provenance": [],
      "authorship_tag": "ABX9TyP/SedovNsBg1kS7vMp1hu4"
    },
    "kernelspec": {
      "name": "python3",
      "display_name": "Python 3"
    },
    "language_info": {
      "name": "python"
    }
  },
  "cells": [
    {
      "cell_type": "code",
      "execution_count": null,
      "metadata": {
        "colab": {
          "base_uri": "https://localhost:8080/"
        },
        "id": "31tYl_xILX0U",
        "outputId": "9e4d16bb-0822-407d-ac71-93f57791949b"
      },
      "outputs": [
        {
          "output_type": "stream",
          "name": "stdout",
          "text": [
            "(10, 20, 30, 'Dhruvil', 40, 50, 60, 'Parmar')\n"
          ]
        }
      ],
      "source": [
        "tuple1 = (10, 20, 30, \"Dhruvil\", 40, 50, 60, \"Parmar\")\n",
        "\n",
        "print(tuple1)"
      ]
    }
  ]
}