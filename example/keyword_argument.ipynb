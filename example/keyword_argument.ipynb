{
  "nbformat": 4,
  "nbformat_minor": 0,
  "metadata": {
    "colab": {
      "name": "keyword argument",
      "provenance": [],
      "authorship_tag": "ABX9TyNWxRWkc55+kMilUq9PZslV"
    },
    "kernelspec": {
      "name": "python3",
      "display_name": "Python 3"
    },
    "language_info": {
      "name": "python"
    }
  },
  "cells": [
    {
      "cell_type": "code",
      "execution_count": null,
      "metadata": {
        "colab": {
          "base_uri": "https://localhost:8080/"
        },
        "id": "sZbfLWepuvVY",
        "outputId": "679b7b63-a8b8-40b4-9911-07e87103039f"
      },
      "outputs": [
        {
          "output_type": "stream",
          "name": "stdout",
          "text": [
            "Sum is : 30\n"
          ]
        }
      ],
      "source": [
        "def sum(a, b):\n",
        "\n",
        "  print(\"Sum is :\",a+b)\n",
        "\n",
        "sum(b = 10, a = 20)"
      ]
    }
  ]
}