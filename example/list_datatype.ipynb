{
  "nbformat": 4,
  "nbformat_minor": 0,
  "metadata": {
    "colab": {
      "name": "list datatype",
      "provenance": [],
      "authorship_tag": "ABX9TyO1bKea5ibplCKEmif14JXl"
    },
    "kernelspec": {
      "name": "python3",
      "display_name": "Python 3"
    },
    "language_info": {
      "name": "python"
    }
  },
  "cells": [
    {
      "cell_type": "code",
      "execution_count": null,
      "metadata": {
        "colab": {
          "base_uri": "https://localhost:8080/"
        },
        "id": "w0sYzi9GKkhX",
        "outputId": "ec9dab46-392c-45c4-f67e-5690f4a88979"
      },
      "outputs": [
        {
          "output_type": "stream",
          "name": "stdout",
          "text": [
            "[10, 20, 'Dhruvil']\n"
          ]
        }
      ],
      "source": [
        "list1 = [10, 20, 'Dhruvil']\n",
        "\n",
        "print(list1)"
      ]
    }
  ]
}