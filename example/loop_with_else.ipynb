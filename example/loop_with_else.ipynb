{
  "nbformat": 4,
  "nbformat_minor": 0,
  "metadata": {
    "colab": {
      "name": "loop with else",
      "provenance": [],
      "authorship_tag": "ABX9TyNbtHAd8xCTnM1tVJfoKGG4"
    },
    "kernelspec": {
      "name": "python3",
      "display_name": "Python 3"
    },
    "language_info": {
      "name": "python"
    }
  },
  "cells": [
    {
      "cell_type": "code",
      "execution_count": null,
      "metadata": {
        "colab": {
          "base_uri": "https://localhost:8080/"
        },
        "id": "DwrGqxvUnYxP",
        "outputId": "46a95ff4-2edf-4ce2-b174-5d433aa5f2da"
      },
      "outputs": [
        {
          "output_type": "stream",
          "name": "stdout",
          "text": [
            "Value is : 10\n",
            "Value is : Dhruvil\n",
            "Value is : 20\n",
            "No elements left\n"
          ]
        }
      ],
      "source": [
        "list1 = [10, \"Dhruvil\", 20]\n",
        "\n",
        "for i in range(len(list1)):\n",
        "  print('Value is :', list1[i])\n",
        "else:\n",
        "  print(\"No elements left\")"
      ]
    }
  ]
}