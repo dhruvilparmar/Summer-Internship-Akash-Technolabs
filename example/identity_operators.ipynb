{
  "nbformat": 4,
  "nbformat_minor": 0,
  "metadata": {
    "colab": {
      "name": "identity operators",
      "provenance": [],
      "authorship_tag": "ABX9TyODakV2wVqva7R8H5+o8FhE"
    },
    "kernelspec": {
      "name": "python3",
      "display_name": "Python 3"
    },
    "language_info": {
      "name": "python"
    }
  },
  "cells": [
    {
      "cell_type": "code",
      "execution_count": null,
      "metadata": {
        "colab": {
          "base_uri": "https://localhost:8080/"
        },
        "id": "E5ZHEKcgUgeK",
        "outputId": "104dce37-ff3f-4748-f5cd-440e98ec67f4"
      },
      "outputs": [
        {
          "output_type": "stream",
          "name": "stdout",
          "text": [
            "True\n",
            "False\n"
          ]
        }
      ],
      "source": [
        "x = 10\n",
        "y = 10\n",
        "\n",
        "print(x is y)\n",
        "\n",
        "print(x is not y)"
      ]
    }
  ]
}