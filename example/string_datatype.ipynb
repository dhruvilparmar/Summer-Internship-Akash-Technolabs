{
  "nbformat": 4,
  "nbformat_minor": 0,
  "metadata": {
    "colab": {
      "name": "string datatype",
      "provenance": [],
      "authorship_tag": "ABX9TyM0NGfghdky8TK4pP6IroFq"
    },
    "kernelspec": {
      "name": "python3",
      "display_name": "Python 3"
    },
    "language_info": {
      "name": "python"
    }
  },
  "cells": [
    {
      "cell_type": "code",
      "execution_count": null,
      "metadata": {
        "colab": {
          "base_uri": "https://localhost:8080/"
        },
        "id": "lGBI8VwsIvJn",
        "outputId": "96fa6d61-9320-4f6c-ff10-a120bde86cd9"
      },
      "outputs": [
        {
          "output_type": "stream",
          "name": "stdout",
          "text": [
            "Name is :  Dhruvil Parmar\n",
            "D\n",
            "h\n",
            "hruvil Parmar\n",
            "Dhruvil ParmarDhruvil Parmar\n",
            "Dhruvil ParmarHello\n"
          ]
        }
      ],
      "source": [
        "name = \"Dhruvil Parmar\"\n",
        "\n",
        "print(\"Name is : \", name)\n",
        "\n",
        "print(name[0])\n",
        "\n",
        "print(name[1:2])\n",
        "\n",
        "print(name[1:])\n",
        "\n",
        "print(name * 2)\n",
        "\n",
        "print(name + \"Hello\")"
      ]
    }
  ]
}