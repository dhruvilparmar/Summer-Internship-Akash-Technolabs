{
  "nbformat": 4,
  "nbformat_minor": 0,
  "metadata": {
    "colab": {
      "name": "logical operators",
      "provenance": [],
      "authorship_tag": "ABX9TyPQca6FY/IUTXlmVzGDOopH"
    },
    "kernelspec": {
      "name": "python3",
      "display_name": "Python 3"
    },
    "language_info": {
      "name": "python"
    }
  },
  "cells": [
    {
      "cell_type": "code",
      "execution_count": null,
      "metadata": {
        "colab": {
          "base_uri": "https://localhost:8080/"
        },
        "id": "tg9Rz2SeSTM3",
        "outputId": "bc749de4-9477-40fb-f3f8-4054bbc19189"
      },
      "outputs": [
        {
          "output_type": "stream",
          "name": "stdout",
          "text": [
            "z is the largest number\n"
          ]
        }
      ],
      "source": [
        "x = 10\n",
        "y = 20\n",
        "z = 30\n",
        "\n",
        "if x>y and x>z:\n",
        "  print(\"x is the largest number\")\n",
        "\n",
        "if y>x and y>z:\n",
        "   print(\"y is the largest number\")\n",
        "\n",
        "if z>x and z>y:\n",
        "  print(\"z is the largest number\")   "
      ]
    }
  ]
}