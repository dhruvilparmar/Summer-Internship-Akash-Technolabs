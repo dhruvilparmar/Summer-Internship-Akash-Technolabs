{
  "nbformat": 4,
  "nbformat_minor": 0,
  "metadata": {
    "colab": {
      "name": "pass statement",
      "provenance": [],
      "authorship_tag": "ABX9TyN0S2v8fwi4lj3GaQfVpxkV"
    },
    "kernelspec": {
      "name": "python3",
      "display_name": "Python 3"
    },
    "language_info": {
      "name": "python"
    }
  },
  "cells": [
    {
      "cell_type": "code",
      "execution_count": null,
      "metadata": {
        "id": "NUjvIDlLr6KF"
      },
      "outputs": [],
      "source": [
        "i = (10, 20, 30, 40, 50)\n",
        "for val in i:\n",
        "  pass"
      ]
    }
  ]
}