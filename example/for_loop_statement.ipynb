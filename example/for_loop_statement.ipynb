{
  "nbformat": 4,
  "nbformat_minor": 0,
  "metadata": {
    "colab": {
      "name": "for loop statement",
      "provenance": [],
      "authorship_tag": "ABX9TyPDlhwZE6gv9Ed0I8yZFpJf"
    },
    "kernelspec": {
      "name": "python3",
      "display_name": "Python 3"
    },
    "language_info": {
      "name": "python"
    }
  },
  "cells": [
    {
      "cell_type": "code",
      "execution_count": null,
      "metadata": {
        "colab": {
          "base_uri": "https://localhost:8080/"
        },
        "id": "MSBHo-x4lp4s",
        "outputId": "5eed6bed-889d-4ff9-b4dd-26a47846ded6"
      },
      "outputs": [
        {
          "output_type": "stream",
          "name": "stdout",
          "text": [
            "Value : D\n",
            "Value : h\n",
            "Value : r\n",
            "Value : u\n",
            "Value : v\n",
            "Value : i\n",
            "Value : l\n"
          ]
        }
      ],
      "source": [
        "for i in 'Dhruvil':\n",
        "  print('Value :', i)"
      ]
    }
  ]
}