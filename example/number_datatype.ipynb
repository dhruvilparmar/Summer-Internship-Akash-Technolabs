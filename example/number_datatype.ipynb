{
  "nbformat": 4,
  "nbformat_minor": 0,
  "metadata": {
    "colab": {
      "name": "number datatype",
      "provenance": [],
      "authorship_tag": "ABX9TyMdiVrgAfMQkWAjBrvZtRku"
    },
    "kernelspec": {
      "name": "python3",
      "display_name": "Python 3"
    },
    "language_info": {
      "name": "python"
    }
  },
  "cells": [
    {
      "cell_type": "code",
      "execution_count": null,
      "metadata": {
        "colab": {
          "base_uri": "https://localhost:8080/"
        },
        "id": "5BxBH-5sGVvb",
        "outputId": "3a3a2b29-467b-4282-faa9-99130b3a3f12"
      },
      "outputs": [
        {
          "output_type": "stream",
          "name": "stdout",
          "text": [
            "10 is of type <class 'int'>\n",
            "10.5 is of type <class 'float'>\n",
            "10.5 is complex number? False\n",
            "(1+2j) is complex number? True\n"
          ]
        }
      ],
      "source": [
        "n1 = 10\n",
        "print(n1, \"is of type\", type(n1))\n",
        "\n",
        "n2 = 10.5\n",
        "print(n2, \"is of type\", type(n2))\n",
        "print(n2, \"is complex number?\", isinstance(10.5, int))\n",
        "\n",
        "n3 = 1 + 2j\n",
        "print(n3, \"is complex number?\", isinstance(1 + 2j, complex))"
      ]
    }
  ]
}