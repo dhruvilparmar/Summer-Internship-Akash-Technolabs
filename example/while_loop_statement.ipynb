{
  "nbformat": 4,
  "nbformat_minor": 0,
  "metadata": {
    "colab": {
      "name": "while loop statement",
      "provenance": [],
      "authorship_tag": "ABX9TyPcpztqusQGRGLq2MRQo8ZR"
    },
    "kernelspec": {
      "name": "python3",
      "display_name": "Python 3"
    },
    "language_info": {
      "name": "python"
    }
  },
  "cells": [
    {
      "cell_type": "code",
      "execution_count": null,
      "metadata": {
        "colab": {
          "base_uri": "https://localhost:8080/"
        },
        "id": "olOnel6tkoir",
        "outputId": "a00a7a6d-0731-4902-89a2-3a7cb003c466"
      },
      "outputs": [
        {
          "output_type": "stream",
          "name": "stdout",
          "text": [
            "value of i :  0\n",
            "value of i :  1\n",
            "value of i :  2\n",
            "value of i :  3\n",
            "value of i :  4\n",
            "value of i :  5\n",
            "value of i :  6\n",
            "value of i :  7\n",
            "value of i :  8\n",
            "value of i :  9\n"
          ]
        }
      ],
      "source": [
        "i = 0\n",
        "while i < 10:\n",
        "  print(\"value of i : \",i)\n",
        "  i += 1\n"
      ]
    }
  ]
}