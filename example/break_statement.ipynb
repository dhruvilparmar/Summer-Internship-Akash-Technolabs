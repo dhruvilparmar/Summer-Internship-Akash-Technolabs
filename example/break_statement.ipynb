{
  "nbformat": 4,
  "nbformat_minor": 0,
  "metadata": {
    "colab": {
      "name": "break statement",
      "provenance": [],
      "authorship_tag": "ABX9TyNjJoB98CTWv+9+UcvoMqr1"
    },
    "kernelspec": {
      "name": "python3",
      "display_name": "Python 3"
    },
    "language_info": {
      "name": "python"
    }
  },
  "cells": [
    {
      "cell_type": "code",
      "execution_count": null,
      "metadata": {
        "colab": {
          "base_uri": "https://localhost:8080/"
        },
        "id": "b7UueruypAQf",
        "outputId": "1115c659-3cc1-4944-e398-8aaaff7bc991"
      },
      "outputs": [
        {
          "output_type": "stream",
          "name": "stdout",
          "text": [
            "Value is : 0\n",
            "Value is : 1\n",
            "Value is : 2\n",
            "Value is : 3\n",
            "Value is : 4\n"
          ]
        }
      ],
      "source": [
        "i = 0\n",
        "while i < 10:\n",
        "  print(\"Value is :\", i)\n",
        "  i += 1\n",
        "  if i >= 5:\n",
        "    break"
      ]
    }
  ]
}