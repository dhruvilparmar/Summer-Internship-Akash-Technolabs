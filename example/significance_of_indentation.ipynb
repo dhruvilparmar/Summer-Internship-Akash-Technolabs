{
  "nbformat": 4,
  "nbformat_minor": 0,
  "metadata": {
    "colab": {
      "name": "significance of indentation",
      "provenance": [],
      "authorship_tag": "ABX9TyMBak36ZIjWFtSoMTVBgxk/"
    },
    "kernelspec": {
      "name": "python3",
      "display_name": "Python 3"
    },
    "language_info": {
      "name": "python"
    }
  },
  "cells": [
    {
      "cell_type": "code",
      "execution_count": null,
      "metadata": {
        "colab": {
          "base_uri": "https://localhost:8080/"
        },
        "id": "7xpdhvpMvbYD",
        "outputId": "9ce95b6a-bc7b-4b2a-95a0-d0ad6ada0ce4"
      },
      "outputs": [
        {
          "output_type": "stream",
          "name": "stdout",
          "text": [
            "Hello World\n",
            "Hello World\n"
          ]
        }
      ],
      "source": [
        "def my_function():\n",
        "   print(\"Hello World\")\n",
        "\n",
        "my_function()\n",
        "my_function()"
      ]
    }
  ]
}