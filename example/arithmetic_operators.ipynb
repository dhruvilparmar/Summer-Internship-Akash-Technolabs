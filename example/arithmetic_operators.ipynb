{
  "nbformat": 4,
  "nbformat_minor": 0,
  "metadata": {
    "colab": {
      "name": "arithmetic operators",
      "provenance": [],
      "authorship_tag": "ABX9TyPgPmhi0btMXn+DJ941P6kW"
    },
    "kernelspec": {
      "name": "python3",
      "display_name": "Python 3"
    },
    "language_info": {
      "name": "python"
    }
  },
  "cells": [
    {
      "cell_type": "code",
      "execution_count": null,
      "metadata": {
        "colab": {
          "base_uri": "https://localhost:8080/"
        },
        "id": "QMoD4J5APaNe",
        "outputId": "f30ba26f-399b-46d2-fb7d-7e850e21af4e"
      },
      "outputs": [
        {
          "output_type": "stream",
          "name": "stdout",
          "text": [
            "x + y = 30\n",
            "x - y = -10\n",
            "x * y = 200\n",
            "x / y = 0.5\n",
            "x // y = 0\n",
            "x ** y = 100000000000000000000\n"
          ]
        }
      ],
      "source": [
        "x = 10\n",
        "y = 20\n",
        "\n",
        "print('x + y =', x + y)\n",
        "\n",
        "print('x - y =', x - y)\n",
        "\n",
        "print('x * y =', x * y)\n",
        "\n",
        "print('x / y =', x / y)\n",
        "\n",
        "print('x // y =', x // y)\n",
        "\n",
        "print('x ** y =', x ** y)"
      ]
    }
  ]
}