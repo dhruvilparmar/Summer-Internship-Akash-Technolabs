{
  "nbformat": 4,
  "nbformat_minor": 0,
  "metadata": {
    "colab": {
      "name": "input/output",
      "provenance": [],
      "authorship_tag": "ABX9TyOSt4fj+TsYZvlC61ovC+MV"
    },
    "kernelspec": {
      "name": "python3",
      "display_name": "Python 3"
    },
    "language_info": {
      "name": "python"
    }
  },
  "cells": [
    {
      "cell_type": "code",
      "execution_count": null,
      "metadata": {
        "colab": {
          "base_uri": "https://localhost:8080/"
        },
        "id": "auHvlvTsOFJf",
        "outputId": "1ae05249-cb0a-4152-8e31-d0db72a74685"
      },
      "outputs": [
        {
          "output_type": "stream",
          "name": "stdout",
          "text": [
            "Enter number:10\n",
            "Enter number:20\n",
            "30\n"
          ]
        }
      ],
      "source": [
        "n1 = int(input('Enter number:'))\n",
        "n2 = int(input('Enter number:'))\n",
        "\n",
        "ans = n1 + n2\n",
        "\n",
        "print(ans)"
      ]
    }
  ]
}