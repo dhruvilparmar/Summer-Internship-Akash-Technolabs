{
  "nbformat": 4,
  "nbformat_minor": 0,
  "metadata": {
    "colab": {
      "name": "variable",
      "provenance": [],
      "collapsed_sections": [],
      "authorship_tag": "ABX9TyNk0joNP6x0TrP54a+KkCbN"
    },
    "kernelspec": {
      "name": "python3",
      "display_name": "Python 3"
    },
    "language_info": {
      "name": "python"
    }
  },
  "cells": [
    {
      "cell_type": "code",
      "execution_count": null,
      "metadata": {
        "colab": {
          "base_uri": "https://localhost:8080/"
        },
        "id": "o2Cdo4RuOaMD",
        "outputId": "442c29a9-6a6e-449a-ba92-4a2d45041ca5"
      },
      "outputs": [
        {
          "output_type": "stream",
          "name": "stdout",
          "text": [
            "10\n",
            "Value of b is :  20\n",
            "student name is : Dhruvil Parmar\n"
          ]
        }
      ],
      "source": [
        "a = 10\n",
        "b = 20\n",
        "c = \"Dhruvil Parmar\"\n",
        "\n",
        "print(a)\n",
        "print(\"Value of b is : \", b)\n",
        "print(\"student name is :\", c)\n",
        "    "
      ]
    }
  ]
}