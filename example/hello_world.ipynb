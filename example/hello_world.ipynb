{
  "nbformat": 4,
  "nbformat_minor": 0,
  "metadata": {
    "colab": {
      "name": "hello world",
      "provenance": [],
      "authorship_tag": "ABX9TyOVzZqxbljk5/WD8KkqPgVG"
    },
    "kernelspec": {
      "name": "python3",
      "display_name": "Python 3"
    },
    "language_info": {
      "name": "python"
    }
  },
  "cells": [
    {
      "cell_type": "code",
      "execution_count": null,
      "metadata": {
        "id": "1-sOl_YWDUEG",
        "colab": {
          "base_uri": "https://localhost:8080/"
        },
        "outputId": "681f3dbe-4220-4bae-d086-41d7878dce8f"
      },
      "outputs": [
        {
          "output_type": "stream",
          "name": "stdout",
          "text": [
            "Hello World!\n"
          ]
        }
      ],
      "source": [
        "print(\"Hello World!\")"
      ]
    }
  ]
}