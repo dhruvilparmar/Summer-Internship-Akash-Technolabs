{
  "nbformat": 4,
  "nbformat_minor": 0,
  "metadata": {
    "colab": {
      "name": "if...elif...else statement",
      "provenance": [],
      "authorship_tag": "ABX9TyNyFp8UTAlo6YLnz0M62uH0"
    },
    "kernelspec": {
      "name": "python3",
      "display_name": "Python 3"
    },
    "language_info": {
      "name": "python"
    }
  },
  "cells": [
    {
      "cell_type": "code",
      "execution_count": null,
      "metadata": {
        "colab": {
          "base_uri": "https://localhost:8080/"
        },
        "id": "0ahjxzuJXob3",
        "outputId": "716d860a-e60a-4f35-e967-02f29713c7f3"
      },
      "outputs": [
        {
          "output_type": "stream",
          "name": "stdout",
          "text": [
            "y is a greater number\n"
          ]
        }
      ],
      "source": [
        "x = 10\n",
        "y = 20\n",
        "\n",
        "if x == y:\n",
        "  print(\"Both numbers are equal\")\n",
        "\n",
        "elif x > y:\n",
        "  print(\"x is a greater number\")\n",
        "\n",
        "else:\n",
        "  print(\"y is a greater number\")"
      ]
    }
  ]
}