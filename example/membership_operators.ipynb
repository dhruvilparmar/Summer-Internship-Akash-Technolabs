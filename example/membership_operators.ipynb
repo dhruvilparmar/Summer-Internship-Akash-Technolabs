{
  "nbformat": 4,
  "nbformat_minor": 0,
  "metadata": {
    "colab": {
      "name": "membership operators",
      "provenance": [],
      "authorship_tag": "ABX9TyMDzuIENfPXLEm375cgTVof"
    },
    "kernelspec": {
      "name": "python3",
      "display_name": "Python 3"
    },
    "language_info": {
      "name": "python"
    }
  },
  "cells": [
    {
      "cell_type": "code",
      "execution_count": null,
      "metadata": {
        "colab": {
          "base_uri": "https://localhost:8080/"
        },
        "id": "bJMBBN47Tlk4",
        "outputId": "1a201f20-eeda-4324-fd7c-1f1a9344e8f9"
      },
      "outputs": [
        {
          "output_type": "stream",
          "name": "stdout",
          "text": [
            "True\n",
            "True\n",
            "False\n",
            "False\n"
          ]
        }
      ],
      "source": [
        "x = 10\n",
        "y = 20\n",
        "list1 = [10, 20, 30, 40, 50]\n",
        "\n",
        "print(x in list1)\n",
        "\n",
        "print(y in list1)\n",
        "\n",
        "print(x not in list1)\n",
        "\n",
        "print(y not in list1)"
      ]
    }
  ]
}