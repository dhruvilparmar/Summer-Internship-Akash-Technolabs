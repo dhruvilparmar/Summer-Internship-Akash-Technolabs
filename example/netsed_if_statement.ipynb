{
  "nbformat": 4,
  "nbformat_minor": 0,
  "metadata": {
    "colab": {
      "name": "netsed if statement",
      "provenance": [],
      "authorship_tag": "ABX9TyO43ezxeaAPRm97qevRZgUD"
    },
    "kernelspec": {
      "name": "python3",
      "display_name": "Python 3"
    },
    "language_info": {
      "name": "python"
    }
  },
  "cells": [
    {
      "cell_type": "code",
      "execution_count": null,
      "metadata": {
        "colab": {
          "base_uri": "https://localhost:8080/"
        },
        "id": "qMP2KayWYrDB",
        "outputId": "a780a2e5-9755-4118-ae50-f79cd20cd515"
      },
      "outputs": [
        {
          "output_type": "stream",
          "name": "stdout",
          "text": [
            "x is a positive number\n"
          ]
        }
      ],
      "source": [
        "x = 10\n",
        "\n",
        "if x >= 0:\n",
        "  if x == 0:\n",
        "    print(\"zero\")\n",
        "  else:\n",
        "    print(\"x is a positive number\")\n",
        "else:\n",
        "  print(\"x is a negative number\")      "
      ]
    }
  ]
}