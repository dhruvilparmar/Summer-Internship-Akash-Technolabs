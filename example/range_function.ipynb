{
  "nbformat": 4,
  "nbformat_minor": 0,
  "metadata": {
    "colab": {
      "name": "range function",
      "provenance": [],
      "authorship_tag": "ABX9TyN+BAJMZxeOvnDncuUKMJqh"
    },
    "kernelspec": {
      "name": "python3",
      "display_name": "Python 3"
    },
    "language_info": {
      "name": "python"
    }
  },
  "cells": [
    {
      "cell_type": "code",
      "execution_count": null,
      "metadata": {
        "colab": {
          "base_uri": "https://localhost:8080/"
        },
        "id": "HhYgdd_Emb18",
        "outputId": "58f09fc0-15d5-4961-89cc-fd8073fcbb17"
      },
      "outputs": [
        {
          "output_type": "stream",
          "name": "stdout",
          "text": [
            "Value is : 10\n",
            "Value is : 20\n",
            "Value is : Dhruvil\n"
          ]
        }
      ],
      "source": [
        "list1 = [10, 20, \"Dhruvil\"]\n",
        "\n",
        "for i in range(len(list1)):\n",
        "  print('Value is :', list1[i])"
      ]
    }
  ]
}