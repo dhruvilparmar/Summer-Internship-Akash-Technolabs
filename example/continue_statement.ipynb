{
  "nbformat": 4,
  "nbformat_minor": 0,
  "metadata": {
    "colab": {
      "name": "continue statement",
      "provenance": [],
      "authorship_tag": "ABX9TyMNRY3RtaqyZJUB04YXXifg"
    },
    "kernelspec": {
      "name": "python3",
      "display_name": "Python 3"
    },
    "language_info": {
      "name": "python"
    }
  },
  "cells": [
    {
      "cell_type": "code",
      "execution_count": null,
      "metadata": {
        "colab": {
          "base_uri": "https://localhost:8080/"
        },
        "id": "ox8x6HKlrAbI",
        "outputId": "3ea73570-3296-4991-f2e5-2b6de7063a80"
      },
      "outputs": [
        {
          "output_type": "stream",
          "name": "stdout",
          "text": [
            "Value is : 1\n",
            "Value is : 3\n",
            "Value is : 5\n",
            "Value is : 7\n",
            "Value is : 9\n"
          ]
        }
      ],
      "source": [
        "for x in range(10):\n",
        "\n",
        " if x % 2 == 0:\n",
        "  continue\n",
        " print(\"Value is :\", x)"
      ]
    }
  ]
}